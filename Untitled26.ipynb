{
  "nbformat": 4,
  "nbformat_minor": 0,
  "metadata": {
    "colab": {
      "name": "Untitled26.ipynb",
      "provenance": [],
      "authorship_tag": "ABX9TyPikt81BVJTr9YtMv3vY/rg",
      "include_colab_link": true
    },
    "kernelspec": {
      "name": "python3",
      "display_name": "Python 3"
    },
    "language_info": {
      "name": "python"
    }
  },
  "cells": [
    {
      "cell_type": "markdown",
      "metadata": {
        "id": "view-in-github",
        "colab_type": "text"
      },
      "source": [
        "<a href=\"https://colab.research.google.com/github/Vallidevibolla/Assignment-6/blob/main/Untitled26.ipynb\" target=\"_parent\"><img src=\"https://colab.research.google.com/assets/colab-badge.svg\" alt=\"Open In Colab\"/></a>"
      ]
    },
    {
      "cell_type": "code",
      "metadata": {
        "colab": {
          "base_uri": "https://localhost:8080/",
          "height": 281
        },
        "id": "eSyR6-Elc8aP",
        "outputId": "199760f7-9186-4645-b944-fa0cc91e87c9"
      },
      "source": [
        "import numpy as np\n",
        "import matplotlib.pyplot as plt\n",
        "\n",
        "#Generate line points\n",
        "def line_gen(A,B):\n",
        "  len =10\n",
        "  dim = A.shape[0]\n",
        "  x_AB = np.zeros((dim,len))\n",
        "  lam_1 = np.linspace(0,1,len)\n",
        "  for i in range(len):\n",
        "    temp1 = A + lam_1[i]*(B-A)\n",
        "    x_AB[:,i]= temp1.T\n",
        "  return x_AB\n",
        "\n",
        "#Plotting line x+2y = 8\n",
        "A=np.array([0,4])\n",
        "B=np.array([8,0])\n",
        "AB=line_gen(A,B)\n",
        "plt.plot(AB[0,:],AB[1,:],label='x+2y=8')\n",
        "\n",
        "#Plotting line 2x+y=8\n",
        "P=np.array([0,8])\n",
        "Q=np.array([2,4])\n",
        "PQ=line_gen(P,Q)\n",
        "plt.plot(PQ[0,:],PQ[1,:],label='2x+y=8')\n",
        "\n",
        "#Shading Required Region\n",
        "x1=[0,0,12,20]\n",
        "y1=[0,10,6,0]\n",
        "plt.fill(x1,y1,color='green',alpha=0.3)\n",
        "\n",
        "#Labelling points\n",
        "plt.plot(0,10,'o',color='r')\n",
        "plt.text(0.2,10.5,'A(0,10)')\n",
        "plt.plot(12,6,'o',color='r')\n",
        "plt.text(12.2,6.2,'B(12,6)')\n",
        "plt.plot(20,0,'o',color='r')\n",
        "plt.text(20.2,0.2,'C(20,0)')\n",
        "\n",
        "plt.xlabel('x')\n",
        "plt.ylabel('y')\n",
        "plt.legend(loc='best')\n",
        "plt.grid() # minor\n",
        "plt.axis('equal')\n",
        "plt.show()"
      ],
      "execution_count": 5,
      "outputs": [
        {
          "output_type": "display_data",
          "data": {
            "image/png": "[encoded data removed]",
            "text/plain": [
              "<Figure size 432x288 with 1 Axes>"
            ]
          },
          "metadata": {
            "needs_background": "light"
          }
        }
      ]
    }
  ]
}